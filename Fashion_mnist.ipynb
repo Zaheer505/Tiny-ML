{
  "nbformat": 4,
  "nbformat_minor": 2,
  "metadata": {
    "colab": {
      "name": "tf_lite_final.ipynb",
      "provenance": [],
      "collapsed_sections": [],
      "authorship_tag": "ABX9TyOK5Ai99sppYGV4hOymrh8Q",
      "include_colab_link": true
    },
    "kernelspec": {
      "name": "python3",
      "display_name": "Python 3.8.10 64-bit"
    },
    "language_info": {
      "name": "python",
      "version": "3.8.10",
      "mimetype": "text/x-python",
      "codemirror_mode": {
        "name": "ipython",
        "version": 3
      },
      "pygments_lexer": "ipython3",
      "nbconvert_exporter": "python",
      "file_extension": ".py"
    },
    "interpreter": {
      "hash": "e7370f93d1d0cde622a1f8e1c04877d8463912d04d973331ad4851f04de6915a"
    }
  },
  "cells": [
    {
      "cell_type": "markdown",
      "source": [
        "<a href=\"https://colab.research.google.com/github/Zaheer505/Tiny-ML/blob/main/tf_lite_final.ipynb\" target=\"_parent\"><img src=\"https://colab.research.google.com/assets/colab-badge.svg\" alt=\"Open In Colab\"/></a>"
      ],
      "metadata": {
        "id": "view-in-github",
        "colab_type": "text"
      }
    },
    {
      "cell_type": "code",
      "execution_count": 2,
      "source": [
        "import os\n",
        "import tensorflow as tf\n",
        "import h5py\n",
        "from tensorflow import keras\n",
        "import numpy as np\n",
        "import matplotlib.pyplot as plt\n",
        "from tensorflow.keras.layers import Flatten\n",
        "from tensorflow.keras.layers import Dense\n",
        "from tensorflow.keras.losses import SparseCategoricalCrossentropy\n",
        "from sklearn.metrics import accuracy_score\n"
      ],
      "outputs": [
        {
          "output_type": "stream",
          "name": "stderr",
          "text": [
            "2021-09-03 21:10:54.506274: I tensorflow/stream_executor/platform/default/dso_loader.cc:49] Successfully opened dynamic library libcudart.so.11.0\n"
          ]
        }
      ],
      "metadata": {
        "id": "XgLTHXCQbVss"
      }
    },
    {
      "cell_type": "code",
      "execution_count": 3,
      "source": [
        "# Must check this because tf 1.x is different and has different rules.\n",
        "print(tf.__version__)"
      ],
      "outputs": [
        {
          "output_type": "stream",
          "name": "stdout",
          "text": [
            "2.4.1\n"
          ]
        }
      ],
      "metadata": {
        "id": "Jg8IIaQZbYh2",
        "colab": {
          "base_uri": "https://localhost:8080/"
        },
        "outputId": "5dec4120-9e78-4b0f-a0db-b79f75405eaf"
      }
    },
    {
      "cell_type": "markdown",
      "source": [
        "## Getting Data "
      ],
      "metadata": {}
    },
    {
      "cell_type": "code",
      "execution_count": 4,
      "source": [
        "# getting MNIST Fashion data set\n",
        "fashion_mnist = keras.datasets.fashion_mnist\n",
        "(train_images, train_labels), (test_images, test_labels) = fashion_mnist.load_data()"
      ],
      "outputs": [
        {
          "output_type": "stream",
          "name": "stdout",
          "text": [
            "Downloading data from https://storage.googleapis.com/tensorflow/tf-keras-datasets/train-labels-idx1-ubyte.gz\n",
            "32768/29515 [=================================] - 0s 3us/step\n",
            "Downloading data from https://storage.googleapis.com/tensorflow/tf-keras-datasets/train-images-idx3-ubyte.gz\n",
            "26427392/26421880 [==============================] - 22s 1us/step\n",
            "Downloading data from https://storage.googleapis.com/tensorflow/tf-keras-datasets/t10k-labels-idx1-ubyte.gz\n",
            "8192/5148 [===============================================] - 0s 1us/step\n",
            "Downloading data from https://storage.googleapis.com/tensorflow/tf-keras-datasets/t10k-images-idx3-ubyte.gz\n",
            "4423680/4422102 [==============================] - 9s 2us/step\n"
          ]
        }
      ],
      "metadata": {
        "id": "e_19DihRb6st"
      }
    },
    {
      "cell_type": "code",
      "execution_count": 5,
      "source": [
        "# Name of classes in our data set\n",
        "class_names = ['T-shirt/top', 'Trouser', 'Pullover', 'Dress', 'Coat',\n",
        "               'Sandal', 'Shirt', 'Sneaker', 'Bag', 'Ankle boot']"
      ],
      "outputs": [],
      "metadata": {
        "id": "nL0r_I_EcAyk"
      }
    },
    {
      "cell_type": "markdown",
      "source": [
        "## Exploring the data\n"
      ],
      "metadata": {
        "id": "hTSi0x42Hpcb"
      }
    },
    {
      "cell_type": "code",
      "execution_count": 6,
      "source": [
        "print(len(train_labels) )\n",
        "print(train_images.shape)\n",
        "print(train_labels)\n",
        "print(test_images.shape)\n",
        "print(len(test_labels))"
      ],
      "outputs": [
        {
          "output_type": "stream",
          "name": "stdout",
          "text": [
            "60000\n",
            "(60000, 28, 28)\n",
            "[9 0 0 ... 3 0 5]\n",
            "(10000, 28, 28)\n",
            "10000\n"
          ]
        }
      ],
      "metadata": {
        "colab": {
          "base_uri": "https://localhost:8080/"
        },
        "id": "SbiMmXHLHZkb",
        "outputId": "f0bea6d9-d981-4bb5-b0ad-d9eec94f0bf8"
      }
    },
    {
      "cell_type": "markdown",
      "source": [
        "## Setting up Data"
      ],
      "metadata": {}
    },
    {
      "cell_type": "code",
      "execution_count": 7,
      "source": [
        "# Converting data into Binary Images\n",
        "train_images = train_images / 255.0\n",
        "test_images = test_images / 255.0"
      ],
      "outputs": [],
      "metadata": {
        "id": "Tr98aAPIcgCk"
      }
    },
    {
      "cell_type": "markdown",
      "source": [
        "## Model Defination"
      ],
      "metadata": {}
    },
    {
      "cell_type": "code",
      "execution_count": 9,
      "source": [
        "# Neural Network Model\n",
        "model = keras.Sequential([\n",
        "    Flatten(input_shape=(28, 28)),\n",
        "    Dense(128, activation='relu'),\n",
        "    Dense(256, activation='relu'),\n",
        "    Dense(10)\n",
        "])"
      ],
      "outputs": [],
      "metadata": {
        "id": "L61O57K1cgsP"
      }
    },
    {
      "cell_type": "code",
      "execution_count": 10,
      "source": [
        "# Optimizer, loss and metric to know accuracy \n",
        "model.compile(optimizer='adam',\n",
        "              loss= SparseCategoricalCrossentropy(from_logits=True),\n",
        "              metrics=['accuracy'])"
      ],
      "outputs": [],
      "metadata": {
        "id": "FY8q--0xckl8"
      }
    },
    {
      "cell_type": "code",
      "execution_count": 11,
      "source": [
        "# to know what our NN model look like, we can get it's summary\n",
        "model.summary()"
      ],
      "outputs": [
        {
          "output_type": "stream",
          "name": "stdout",
          "text": [
            "Model: \"sequential_1\"\n",
            "_________________________________________________________________\n",
            "Layer (type)                 Output Shape              Param #   \n",
            "=================================================================\n",
            "flatten_1 (Flatten)          (None, 784)               0         \n",
            "_________________________________________________________________\n",
            "dense_3 (Dense)              (None, 128)               100480    \n",
            "_________________________________________________________________\n",
            "dense_4 (Dense)              (None, 256)               33024     \n",
            "_________________________________________________________________\n",
            "dense_5 (Dense)              (None, 10)                2570      \n",
            "=================================================================\n",
            "Total params: 136,074\n",
            "Trainable params: 136,074\n",
            "Non-trainable params: 0\n",
            "_________________________________________________________________\n"
          ]
        }
      ],
      "metadata": {
        "id": "wSebsux8gzNU",
        "colab": {
          "base_uri": "https://localhost:8080/"
        },
        "outputId": "9dfa49ce-6841-481d-f41f-9d9eabd579ad"
      }
    },
    {
      "cell_type": "markdown",
      "source": [
        "## Training"
      ],
      "metadata": {
        "id": "YifHKWLMSMp7"
      }
    },
    {
      "cell_type": "code",
      "execution_count": 12,
      "source": [
        "# Fitting images to Model\n",
        "# Epoch = number of times that the learning algorithm will work through the entire training dataset\n",
        "# More Epochs result in more accuracy but can result in overfitting\n",
        "model.fit(train_images, train_labels, epochs=10)"
      ],
      "outputs": [
        {
          "output_type": "stream",
          "name": "stderr",
          "text": [
            "2021-09-03 21:12:32.214536: W tensorflow/core/framework/cpu_allocator_impl.cc:80] Allocation of 188160000 exceeds 10% of free system memory.\n",
            "2021-09-03 21:12:33.029936: I tensorflow/compiler/mlir/mlir_graph_optimization_pass.cc:116] None of the MLIR optimization passes are enabled (registered 2)\n",
            "2021-09-03 21:12:33.072031: I tensorflow/core/platform/profile_utils/cpu_utils.cc:112] CPU Frequency: 2194910000 Hz\n"
          ]
        },
        {
          "output_type": "stream",
          "name": "stdout",
          "text": [
            "Epoch 1/10\n",
            "1875/1875 [==============================] - 7s 3ms/step - loss: 0.6125 - accuracy: 0.7811\n",
            "Epoch 2/10\n",
            "1875/1875 [==============================] - 5s 2ms/step - loss: 0.3678 - accuracy: 0.8652\n",
            "Epoch 3/10\n",
            "1875/1875 [==============================] - 4s 2ms/step - loss: 0.3242 - accuracy: 0.8826\n",
            "Epoch 4/10\n",
            "1875/1875 [==============================] - 4s 2ms/step - loss: 0.2998 - accuracy: 0.8885\n",
            "Epoch 5/10\n",
            "1875/1875 [==============================] - 4s 2ms/step - loss: 0.2830 - accuracy: 0.8939\n",
            "Epoch 6/10\n",
            "1875/1875 [==============================] - 5s 2ms/step - loss: 0.2635 - accuracy: 0.9002\n",
            "Epoch 7/10\n",
            "1875/1875 [==============================] - 4s 2ms/step - loss: 0.2571 - accuracy: 0.9031\n",
            "Epoch 8/10\n",
            "1875/1875 [==============================] - 4s 2ms/step - loss: 0.2400 - accuracy: 0.9082\n",
            "Epoch 9/10\n",
            "1875/1875 [==============================] - 4s 2ms/step - loss: 0.2335 - accuracy: 0.9110\n",
            "Epoch 10/10\n",
            "1875/1875 [==============================] - 4s 2ms/step - loss: 0.2206 - accuracy: 0.9159\n"
          ]
        },
        {
          "output_type": "execute_result",
          "data": {
            "text/plain": [
              "<tensorflow.python.keras.callbacks.History at 0x7f076483f8b0>"
            ]
          },
          "metadata": {},
          "execution_count": 12
        }
      ],
      "metadata": {
        "id": "Ex0dH2WFck2y",
        "colab": {
          "base_uri": "https://localhost:8080/"
        },
        "outputId": "dccbc613-7b44-4aa2-a459-a16c3f219d2c"
      }
    },
    {
      "cell_type": "markdown",
      "source": [
        "## Testing Model"
      ],
      "metadata": {}
    },
    {
      "cell_type": "code",
      "execution_count": 13,
      "source": [
        "test_loss, test_acc = model.evaluate(test_images,  test_labels, verbose=2)\n",
        "print('\\nTest accuracy:', round(test_acc*100, 2), '%')"
      ],
      "outputs": [
        {
          "output_type": "stream",
          "name": "stderr",
          "text": [
            "2021-09-03 21:13:23.785620: W tensorflow/core/framework/cpu_allocator_impl.cc:80] Allocation of 31360000 exceeds 10% of free system memory.\n"
          ]
        },
        {
          "output_type": "stream",
          "name": "stdout",
          "text": [
            "313/313 - 1s - loss: 0.3311 - accuracy: 0.8867\n",
            "\n",
            "Test accuracy: 88.67 %\n"
          ]
        }
      ],
      "metadata": {
        "id": "_elv8sQmgkXK",
        "colab": {
          "base_uri": "https://localhost:8080/"
        },
        "outputId": "072d7c22-e370-4460-9ac4-f02e568a4d0d"
      }
    },
    {
      "cell_type": "markdown",
      "source": [
        "## Saving Trained Model"
      ],
      "metadata": {}
    },
    {
      "cell_type": "code",
      "execution_count": 16,
      "source": [
        "export_dir = '/home/luqman/Tiny-ML/saved_model/2'\n",
        "tf.saved_model.save(model, export_dir)"
      ],
      "outputs": [
        {
          "output_type": "stream",
          "name": "stdout",
          "text": [
            "INFO:tensorflow:Assets written to: saved_model/2\\assets\n"
          ]
        }
      ],
      "metadata": {
        "id": "VeS-7zk7clAT"
      }
    },
    {
      "cell_type": "code",
      "execution_count": null,
      "source": [
        "print ('Size:', round(os.path.getsize(tf_model_name)/(1024*1024), 3) , 'MB')"
      ],
      "outputs": [
        {
          "output_type": "stream",
          "name": "stdout",
          "text": [
            "Size: 1.589 MB\n"
          ]
        }
      ],
      "metadata": {
        "id": "04lj6DwdsBYB",
        "colab": {
          "base_uri": "https://localhost:8080/"
        },
        "outputId": "4628729f-31fd-47f4-cb7a-59399259527b"
      }
    },
    {
      "cell_type": "markdown",
      "source": [
        "## Now Converting into TensforFlow Lite Model ( luqman )\n"
      ],
      "metadata": {}
    },
    {
      "cell_type": "code",
      "execution_count": 18,
      "source": [
        "converter = tf.lite.TFLiteConverter.from_saved_model(export_dir)\n",
        "tflite_model = converter.convert()"
      ],
      "outputs": [],
      "metadata": {}
    },
    {
      "cell_type": "code",
      "execution_count": 19,
      "source": [
        "import pathlib\n",
        "tflite_model_file = pathlib.Path('model.tflite')\n",
        "tflite_model_file.write_bytes(tflite_model)"
      ],
      "outputs": [
        {
          "output_type": "execute_result",
          "data": {
            "text/plain": [
              "546228"
            ]
          },
          "metadata": {},
          "execution_count": 19
        }
      ],
      "metadata": {}
    },
    {
      "cell_type": "code",
      "execution_count": 20,
      "source": [
        "# Load TFLite model and allocate tensors.\n",
        "interpreter = tf.lite.Interpreter(model_content=tflite_model)\n",
        "interpreter.allocate_tensors()\n",
        "\n",
        "# Get input and output tensors.\n",
        "input_details = interpreter.get_input_details()\n",
        "output_details = interpreter.get_output_details()\n",
        "print(input_details)\n",
        "print(output_details)"
      ],
      "outputs": [
        {
          "output_type": "stream",
          "name": "stdout",
          "text": [
            "[{'name': 'serving_default_flatten_input:0', 'index': 0, 'shape': array([ 1, 28, 28]), 'shape_signature': array([-1, 28, 28]), 'dtype': <class 'numpy.float32'>, 'quantization': (0.0, 0), 'quantization_parameters': {'scales': array([], dtype=float32), 'zero_points': array([], dtype=int32), 'quantized_dimension': 0}, 'sparsity_parameters': {}}]\n",
            "[{'name': 'StatefulPartitionedCall:0', 'index': 11, 'shape': array([ 1, 10]), 'shape_signature': array([-1, 10]), 'dtype': <class 'numpy.float32'>, 'quantization': (0.0, 0), 'quantization_parameters': {'scales': array([], dtype=float32), 'zero_points': array([], dtype=int32), 'quantized_dimension': 0}, 'sparsity_parameters': {}}]\n"
          ]
        }
      ],
      "metadata": {}
    },
    {
      "cell_type": "code",
      "execution_count": 21,
      "source": [
        "to_predict = np.array([[10.0]], dtype=np.float32)\n",
        "print(to_predict)\n",
        "interpreter.set_tensor(input_details[0]['index'], to_predict)\n",
        "interpreter.invoke()\n",
        "tflite_results = interpreter.get_tensor(output_details[0]['index'])\n",
        "print(tflite_results)"
      ],
      "outputs": [
        {
          "output_type": "stream",
          "name": "stdout",
          "text": [
            "[[10.]]\n"
          ]
        },
        {
          "output_type": "error",
          "ename": "ValueError",
          "evalue": "Cannot set tensor: Dimension mismatch. Got 2 but expected 3 for input 0.",
          "traceback": [
            "\u001b[1;31m---------------------------------------------------------------------------\u001b[0m",
            "\u001b[1;31mValueError\u001b[0m                                Traceback (most recent call last)",
            "\u001b[1;32m~\\AppData\\Local\\Temp/ipykernel_10368/690213068.py\u001b[0m in \u001b[0;36m<module>\u001b[1;34m\u001b[0m\n\u001b[0;32m      1\u001b[0m \u001b[0mto_predict\u001b[0m \u001b[1;33m=\u001b[0m \u001b[0mnp\u001b[0m\u001b[1;33m.\u001b[0m\u001b[0marray\u001b[0m\u001b[1;33m(\u001b[0m\u001b[1;33m[\u001b[0m\u001b[1;33m[\u001b[0m\u001b[1;36m10.0\u001b[0m\u001b[1;33m]\u001b[0m\u001b[1;33m]\u001b[0m\u001b[1;33m,\u001b[0m \u001b[0mdtype\u001b[0m\u001b[1;33m=\u001b[0m\u001b[0mnp\u001b[0m\u001b[1;33m.\u001b[0m\u001b[0mfloat32\u001b[0m\u001b[1;33m)\u001b[0m\u001b[1;33m\u001b[0m\u001b[1;33m\u001b[0m\u001b[0m\n\u001b[0;32m      2\u001b[0m \u001b[0mprint\u001b[0m\u001b[1;33m(\u001b[0m\u001b[0mto_predict\u001b[0m\u001b[1;33m)\u001b[0m\u001b[1;33m\u001b[0m\u001b[1;33m\u001b[0m\u001b[0m\n\u001b[1;32m----> 3\u001b[1;33m \u001b[0minterpreter\u001b[0m\u001b[1;33m.\u001b[0m\u001b[0mset_tensor\u001b[0m\u001b[1;33m(\u001b[0m\u001b[0minput_details\u001b[0m\u001b[1;33m[\u001b[0m\u001b[1;36m0\u001b[0m\u001b[1;33m]\u001b[0m\u001b[1;33m[\u001b[0m\u001b[1;34m'index'\u001b[0m\u001b[1;33m]\u001b[0m\u001b[1;33m,\u001b[0m \u001b[0mto_predict\u001b[0m\u001b[1;33m)\u001b[0m\u001b[1;33m\u001b[0m\u001b[1;33m\u001b[0m\u001b[0m\n\u001b[0m\u001b[0;32m      4\u001b[0m \u001b[0minterpreter\u001b[0m\u001b[1;33m.\u001b[0m\u001b[0minvoke\u001b[0m\u001b[1;33m(\u001b[0m\u001b[1;33m)\u001b[0m\u001b[1;33m\u001b[0m\u001b[1;33m\u001b[0m\u001b[0m\n\u001b[0;32m      5\u001b[0m \u001b[0mtflite_results\u001b[0m \u001b[1;33m=\u001b[0m \u001b[0minterpreter\u001b[0m\u001b[1;33m.\u001b[0m\u001b[0mget_tensor\u001b[0m\u001b[1;33m(\u001b[0m\u001b[0moutput_details\u001b[0m\u001b[1;33m[\u001b[0m\u001b[1;36m0\u001b[0m\u001b[1;33m]\u001b[0m\u001b[1;33m[\u001b[0m\u001b[1;34m'index'\u001b[0m\u001b[1;33m]\u001b[0m\u001b[1;33m)\u001b[0m\u001b[1;33m\u001b[0m\u001b[1;33m\u001b[0m\u001b[0m\n",
            "\u001b[1;32m~\\AppData\\Local\\Programs\\Python\\Python39\\lib\\site-packages\\tensorflow\\lite\\python\\interpreter.py\u001b[0m in \u001b[0;36mset_tensor\u001b[1;34m(self, tensor_index, value)\u001b[0m\n\u001b[0;32m    605\u001b[0m       \u001b[0mValueError\u001b[0m\u001b[1;33m:\u001b[0m \u001b[0mIf\u001b[0m \u001b[0mthe\u001b[0m \u001b[0minterpreter\u001b[0m \u001b[0mcould\u001b[0m \u001b[1;32mnot\u001b[0m \u001b[0mset\u001b[0m \u001b[0mthe\u001b[0m \u001b[0mtensor\u001b[0m\u001b[1;33m.\u001b[0m\u001b[1;33m\u001b[0m\u001b[1;33m\u001b[0m\u001b[0m\n\u001b[0;32m    606\u001b[0m     \"\"\"\n\u001b[1;32m--> 607\u001b[1;33m     \u001b[0mself\u001b[0m\u001b[1;33m.\u001b[0m\u001b[0m_interpreter\u001b[0m\u001b[1;33m.\u001b[0m\u001b[0mSetTensor\u001b[0m\u001b[1;33m(\u001b[0m\u001b[0mtensor_index\u001b[0m\u001b[1;33m,\u001b[0m \u001b[0mvalue\u001b[0m\u001b[1;33m)\u001b[0m\u001b[1;33m\u001b[0m\u001b[1;33m\u001b[0m\u001b[0m\n\u001b[0m\u001b[0;32m    608\u001b[0m \u001b[1;33m\u001b[0m\u001b[0m\n\u001b[0;32m    609\u001b[0m   \u001b[1;32mdef\u001b[0m \u001b[0mresize_tensor_input\u001b[0m\u001b[1;33m(\u001b[0m\u001b[0mself\u001b[0m\u001b[1;33m,\u001b[0m \u001b[0minput_index\u001b[0m\u001b[1;33m,\u001b[0m \u001b[0mtensor_size\u001b[0m\u001b[1;33m,\u001b[0m \u001b[0mstrict\u001b[0m\u001b[1;33m=\u001b[0m\u001b[1;32mFalse\u001b[0m\u001b[1;33m)\u001b[0m\u001b[1;33m:\u001b[0m\u001b[1;33m\u001b[0m\u001b[1;33m\u001b[0m\u001b[0m\n",
            "\u001b[1;31mValueError\u001b[0m: Cannot set tensor: Dimension mismatch. Got 2 but expected 3 for input 0."
          ]
        }
      ],
      "metadata": {}
    },
    {
      "cell_type": "code",
      "execution_count": null,
      "source": [],
      "outputs": [],
      "metadata": {}
    },
    {
      "cell_type": "code",
      "execution_count": null,
      "source": [],
      "outputs": [],
      "metadata": {}
    },
    {
      "cell_type": "markdown",
      "source": [
        "## Zaheer's Implementation of TF Lite "
      ],
      "metadata": {
        "id": "VhQr_6Gqds0f"
      }
    },
    {
      "cell_type": "code",
      "execution_count": null,
      "source": [
        "tf_lite_model_file_name = \"tf_lite_model.tflite\""
      ],
      "outputs": [],
      "metadata": {
        "id": "IXV6igMoW-6I"
      }
    },
    {
      "cell_type": "code",
      "execution_count": null,
      "source": [
        "tf_lite_converter = tf.lite.TFLiteConverter.from_keras_model(model)\n",
        "tf_lite_converter.optimizations = [tf.lite.Optimize.OPTIMIZE_FOR_SIZE] # optimizing for size \n",
        "tflite_model = tf_lite_converter.convert()"
      ],
      "outputs": [
        {
          "output_type": "stream",
          "name": "stderr",
          "text": [
            "WARNING:absl:Optimization option OPTIMIZE_FOR_SIZE is deprecated, please use optimizations=[Optimize.DEFAULT] instead.\n"
          ]
        },
        {
          "output_type": "stream",
          "name": "stdout",
          "text": [
            "INFO:tensorflow:Assets written to: /tmp/tmpwri52zf2/assets\n"
          ]
        },
        {
          "output_type": "stream",
          "name": "stderr",
          "text": [
            "INFO:tensorflow:Assets written to: /tmp/tmpwri52zf2/assets\n",
            "WARNING:absl:Optimization option OPTIMIZE_FOR_SIZE is deprecated, please use optimizations=[Optimize.DEFAULT] instead.\n",
            "WARNING:absl:Optimization option OPTIMIZE_FOR_SIZE is deprecated, please use optimizations=[Optimize.DEFAULT] instead.\n"
          ]
        }
      ],
      "metadata": {
        "id": "AO6fTj19gwOB",
        "colab": {
          "base_uri": "https://localhost:8080/"
        },
        "outputId": "7da41125-3681-4cdb-d5f4-9369bded163b"
      }
    },
    {
      "cell_type": "code",
      "execution_count": null,
      "source": [
        "tflite_model_name = tf_lite_model_file_name\n",
        "open(tflite_model_name, \"wb\").write(tflite_model)"
      ],
      "outputs": [
        {
          "output_type": "execute_result",
          "data": {
            "text/plain": [
              "139408"
            ]
          },
          "metadata": {},
          "execution_count": 185
        }
      ],
      "metadata": {
        "id": "w8kIn4iPXE1q",
        "colab": {
          "base_uri": "https://localhost:8080/"
        },
        "outputId": "d82eb535-77b7-4384-ef1c-0fc6d89d7dff"
      }
    },
    {
      "cell_type": "code",
      "execution_count": null,
      "source": [
        "print ('Size:', round(os.path.getsize(tf_lite_model_file_name)/(1024), 3) , 'KB')"
      ],
      "outputs": [
        {
          "output_type": "stream",
          "name": "stdout",
          "text": [
            "Size: 136.141 KB\n"
          ]
        }
      ],
      "metadata": {
        "id": "2q4TML2ugwB1",
        "colab": {
          "base_uri": "https://localhost:8080/"
        },
        "outputId": "924b9908-253b-4ae7-dcd8-bf2e4a308895"
      }
    },
    {
      "cell_type": "markdown",
      "source": [
        "**Input Shape Check**"
      ],
      "metadata": {
        "id": "usCHZEbDhFmO"
      }
    },
    {
      "cell_type": "code",
      "execution_count": null,
      "source": [
        "interpreter = tf.lite.Interpreter(model_path = tf_lite_model_file_name)\n",
        "input_details = interpreter.get_input_details()\n",
        "output_details = interpreter.get_output_details()\n",
        "print(\"Input Shape:\", input_details[0]['shape'])\n",
        "print(\"Input Type:\", input_details[0]['dtype'])\n",
        "print(\"Output Shape:\", output_details[0]['shape'])\n",
        "print(\"Output Type:\", output_details[0]['dtype'])"
      ],
      "outputs": [],
      "metadata": {
        "id": "HiibvC0acCit"
      }
    },
    {
      "cell_type": "markdown",
      "source": [
        "**Resizing Shape**"
      ],
      "metadata": {
        "id": "v9qp9nhhlnGd"
      }
    },
    {
      "cell_type": "code",
      "execution_count": null,
      "source": [
        "interpreter.resize_tensor_input(input_details[0]['index'], (10000, 28, 28))\n",
        "interpreter.resize_tensor_input(output_details[0]['index'], (10000, 10))\n",
        "interpreter.allocate_tensors()\n",
        "input_details = interpreter.get_input_details()\n",
        "output_details = interpreter.get_output_details()\n",
        "print(\"Input Shape:\", input_details[0]['shape'])\n",
        "print(\"Input Type:\", input_details[0]['dtype'])\n",
        "print(\"Output Shape:\", output_details[0]['shape'])\n",
        "print(\"Output Type:\", output_details[0]['dtype'])"
      ],
      "outputs": [],
      "metadata": {
        "id": "p2dLEs15cEkl"
      }
    },
    {
      "cell_type": "code",
      "execution_count": null,
      "source": [
        "test_images.dtype # checking orignal data type"
      ],
      "outputs": [
        {
          "output_type": "execute_result",
          "data": {
            "text/plain": [
              "dtype('float64')"
            ]
          },
          "metadata": {},
          "execution_count": 190
        }
      ],
      "metadata": {
        "id": "fr-VK6qYcGv2",
        "colab": {
          "base_uri": "https://localhost:8080/"
        },
        "outputId": "6e52c0ab-2190-43ad-8caf-82f817c96ac8"
      }
    },
    {
      "cell_type": "code",
      "execution_count": null,
      "source": [
        "test_imgs_numpy = np.array(test_images, dtype=np.float32) # convert to new data type"
      ],
      "outputs": [],
      "metadata": {
        "id": "NsY6NfmwgvZw"
      }
    },
    {
      "cell_type": "markdown",
      "source": [
        "**Prediction/Accuracy Check**"
      ],
      "metadata": {
        "id": "dWB7uD79l80s"
      }
    },
    {
      "cell_type": "code",
      "execution_count": null,
      "source": [
        "interpreter.set_tensor(input_details[0]['index'], test_imgs_numpy)\n",
        "interpreter.invoke()\n",
        "tflite_model_predictions = interpreter.get_tensor(output_details[0]['index'])\n",
        "print(\"Prediction results shape:\", tflite_model_predictions.shape)\n",
        "tf_prediction_classes = np.argmax(tflite_model_predictions, axis=1)\n",
        "print (tf_prediction_classes)"
      ],
      "outputs": [
        {
          "output_type": "stream",
          "name": "stdout",
          "text": [
            "Prediction results shape: (10000, 10)\n",
            "[9 2 1 ... 8 1 5]\n"
          ]
        }
      ],
      "metadata": {
        "id": "uYZfKBEYhhi1",
        "colab": {
          "base_uri": "https://localhost:8080/"
        },
        "outputId": "fde7b383-06ab-436e-939c-69b2f908ade9"
      }
    },
    {
      "cell_type": "code",
      "execution_count": null,
      "source": [
        "acc = accuracy_score(tf_prediction_classes, test_labels)\n",
        "print ('Accuracy:', round(acc*100, 4), '%')"
      ],
      "outputs": [
        {
          "output_type": "stream",
          "name": "stdout",
          "text": [
            "Accuracy 87.86 %\n"
          ]
        }
      ],
      "metadata": {
        "id": "uEQ8pNZVhhed",
        "colab": {
          "base_uri": "https://localhost:8080/"
        },
        "outputId": "3f2abb37-40a4-4175-d3b6-746116b6711f"
      }
    }
  ]
}